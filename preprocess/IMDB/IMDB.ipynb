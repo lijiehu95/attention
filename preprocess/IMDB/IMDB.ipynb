{
 "cells": [
  {
   "cell_type": "code",
   "execution_count": 1,
   "metadata": {},
   "outputs": [],
   "source": [
    "# !wget https://s3.amazonaws.com/text-datasets/imdb_full.pkl\n",
    "# !wget https://s3.amazonaws.com/text-datasets/imdb_word_index.json"
   ]
  },
  {
   "cell_type": "code",
   "execution_count": 6,
   "metadata": {},
   "outputs": [],
   "source": [
    "import pandas as pd\n",
    "import numpy as np\n",
    "import matplotlib.pyplot as plt\n",
    "import seaborn as sns\n",
    "\n",
    "from sklearn.model_selection import train_test_split\n",
    "\n",
    "import pickle\n",
    "data = pickle.load(open('imdb_full.pkl', 'rb'))\n",
    "\n",
    "import json\n",
    "vocab = json.load(open('imdb_word_index.json'))"
   ]
  },
  {
   "cell_type": "code",
   "execution_count": 18,
   "outputs": [],
   "source": [
    "# data[0]\n",
    "# len(data)\n",
    "# len(data[0][0])\n",
    "# data[1][0][0]"
   ],
   "metadata": {
    "collapsed": false,
    "pycharm": {
     "name": "#%%\n"
    }
   }
  },
  {
   "cell_type": "code",
   "execution_count": 19,
   "metadata": {},
   "outputs": [],
   "source": [
    "inv = {idx:word for word, idx in vocab.items()}"
   ]
  },
  {
   "cell_type": "code",
   "execution_count": 21,
   "metadata": {},
   "outputs": [],
   "source": [
    "(X_train, y_train), (Xt, yt) = data"
   ]
  },
  {
   "cell_type": "code",
   "execution_count": 22,
   "metadata": {},
   "outputs": [
    {
     "name": "stderr",
     "output_type": "stream",
     "text": [
      "/Users/apple/opt/anaconda3/envs/xai/lib/python3.6/site-packages/sklearn/model_selection/_split.py:2179: FutureWarning: From version 0.21, test_size will always complement train_size unless both are specified.\n",
      "  FutureWarning)\n"
     ]
    }
   ],
   "source": [
    "trainidx = [i for i, x in enumerate(X_train) if len(x) < 400]\n",
    "trainidx, devidx = train_test_split(trainidx, train_size=0.8, random_state=1378)\n",
    "X = [X_train[i] for i in trainidx]\n",
    "y = [y_train[i] for i in trainidx]\n",
    "\n",
    "Xd = [X_train[i] for i in devidx]\n",
    "yd = [y_train[i] for i in devidx]\n",
    "\n",
    "testidx = [i for i, x in enumerate(Xt) if len(x) < 400]\n",
    "testidx, remaining_idx =  train_test_split(testidx, train_size=0.2, random_state=1378)\n",
    "\n",
    "Xt = [Xt[i] for i in testidx]\n",
    "yt = [yt[i] for i in testidx]"
   ]
  },
  {
   "cell_type": "code",
   "execution_count": 23,
   "metadata": {},
   "outputs": [],
   "source": [
    "def invert_and_join(X) :\n",
    "    X = [[inv[x] for x in doc] for doc in X]\n",
    "    X = [\" \".join(x) for x in X]\n",
    "    return X"
   ]
  },
  {
   "cell_type": "code",
   "execution_count": 24,
   "metadata": {},
   "outputs": [],
   "source": [
    "X = invert_and_join(X)\n",
    "Xd = invert_and_join(Xd)\n",
    "Xt = invert_and_join(Xt)"
   ]
  },
  {
   "cell_type": "code",
   "execution_count": 26,
   "metadata": {},
   "outputs": [],
   "source": [
    "texts = {'train' : X, 'test' : Xt, 'dev' : Xd}\n",
    "labels = {'train' : y, 'test' : yt, 'dev' : yd}"
   ]
  },
  {
   "cell_type": "code",
   "execution_count": 29,
   "outputs": [
    {
     "data": {
      "text/plain": "4304"
     },
     "execution_count": 29,
     "metadata": {},
     "output_type": "execute_result"
    }
   ],
   "source": [
    "len(Xd)"
   ],
   "metadata": {
    "collapsed": false,
    "pycharm": {
     "name": "#%%\n"
    }
   }
  },
  {
   "cell_type": "code",
   "execution_count": 30,
   "metadata": {},
   "outputs": [],
   "source": [
    "import pandas as pd\n",
    "df_texts = []\n",
    "df_labels = []\n",
    "df_exp_splits = []\n",
    "\n",
    "for key in ['train', 'test', 'dev'] :\n",
    "    df_texts += texts[key]\n",
    "    df_labels += labels[key]\n",
    "    df_exp_splits += [key] * len(texts[key])\n",
    "    \n",
    "df = pd.DataFrame({'text' : df_texts, 'label' : df_labels, 'exp_split' : df_exp_splits})\n",
    "df.to_csv('imdb_dataset.csv', index=False)"
   ]
  },
  {
   "cell_type": "code",
   "execution_count": 31,
   "outputs": [
    {
     "data": {
      "text/plain": "                                                    text  label exp_split\n0      if you have any kind of heart and compassion f...      1     train\n1      the name of this film alone made me want to se...      1     train\n2      bugs life is a good film but to me it doesn't ...      1     train\n3      rachel griffiths writes and directs this award...      1     train\n4      after eagerly waiting to the end i have to say...      0     train\n5      this was the most pointless film i have ever s...      0     train\n6      how can you go wrong with the amazing ramones ...      1     train\n7      a true story about a true revolution 25 of apr...      1     train\n8      i watched this movie every chance i got back i...      1     train\n9      everybody's got bills to pay and that includes...      1     train\n10     as an ex teacher i must confess to cringing th...      0     train\n11     i'm glad that this is available on dvd now thi...      1     train\n12     i really have problems rating this movie it is...      0     train\n13     this thing is really awfull there´s no charach...      0     train\n14     i don't see how anyone who even likes van damn...      0     train\n15     this dreadful film assembles every asian stere...      0     train\n16     greetings again from the darkness stunning pho...      1     train\n17     this is an ok film but lacks any real depth ei...      0     train\n18     immediately after renting and watching this mo...      0     train\n19     one of the worst movies i've seen shoddy camer...      0     train\n20     i didn't think it would be possible for joe do...      0     train\n21     the absolute summum of the oeuvre of that craf...      1     train\n22     the movie deserves 2 10 1 5 stars for the girl...      0     train\n23     ok so i am like most people give me free ticke...      0     train\n24     this documentary makes you travel all around t...      1     train\n25     please help the economy spend your money elsew...      0     train\n26     the idea is a very smart title the film has a ...      1     train\n27     my girlfriend and i have a thing for robots so...      1     train\n28     i rented it because the second segment traumat...      0     train\n29     have you ever or do you have a pet who's been ...      1     train\n...                                                  ...    ...       ...\n25849  unless you are geeky film student who has to s...      0       dev\n25850  if you merely look at the cover of this movie ...      0       dev\n25851  red eye is a thrilling film by the creator of ...      1       dev\n25852  make no mistake maureen o'sullivan is easily t...      1       dev\n25853  forbidden planet is one of the best examples o...      1       dev\n25854  if you enjoy films like american pie road trip...      0       dev\n25855  in an apparent attempt to avoid remaking the o...      0       dev\n25856  usually i know after the first minute of a mov...      0       dev\n25857  pickup on south street 1953 directed by movie ...      1       dev\n25858  evidently when you offer a actor enough money ...      0       dev\n25859  this movie is a bad attempt to make original f...      0       dev\n25860  this long winded film turns out to be less abo...      0       dev\n25861  one of those thank god i don't live there docu...      0       dev\n25862  fully deserving its prestigious hollywood awar...      1       dev\n25863  this is the sorriest collection of clichés str...      0       dev\n25864  i couldn't wait to see this movie about half w...      0       dev\n25865  although dig was being hailed as being closest...      1       dev\n25866  unfortunately because of us viewers' tendency ...      1       dev\n25867  this movie was made by a bunch of white guys t...      0       dev\n25868  its too bad that no one knows anything about t...      1       dev\n25869  i guess i'm part of the silent minority who en...      1       dev\n25870  not the worst movie i've seen but definitely n...      0       dev\n25871  on the back burner for years so it was reporte...      0       dev\n25872  what a horrible comedy totally lame the suppos...      0       dev\n25873  clint eastwood reprises his role as dirty harr...      1       dev\n25874  review may contain spoilers br br predictable ...      0       dev\n25875  this film is predictable it is more predictabl...      0       dev\n25876  paulie is a fantasy of a littler girl or perha...      1       dev\n25877  the creativeness of this movie was lost from t...      0       dev\n25878  first off i have to say that i loved the book ...      0       dev\n\n[25879 rows x 3 columns]",
      "text/html": "<div>\n<style scoped>\n    .dataframe tbody tr th:only-of-type {\n        vertical-align: middle;\n    }\n\n    .dataframe tbody tr th {\n        vertical-align: top;\n    }\n\n    .dataframe thead th {\n        text-align: right;\n    }\n</style>\n<table border=\"1\" class=\"dataframe\">\n  <thead>\n    <tr style=\"text-align: right;\">\n      <th></th>\n      <th>text</th>\n      <th>label</th>\n      <th>exp_split</th>\n    </tr>\n  </thead>\n  <tbody>\n    <tr>\n      <th>0</th>\n      <td>if you have any kind of heart and compassion f...</td>\n      <td>1</td>\n      <td>train</td>\n    </tr>\n    <tr>\n      <th>1</th>\n      <td>the name of this film alone made me want to se...</td>\n      <td>1</td>\n      <td>train</td>\n    </tr>\n    <tr>\n      <th>2</th>\n      <td>bugs life is a good film but to me it doesn't ...</td>\n      <td>1</td>\n      <td>train</td>\n    </tr>\n    <tr>\n      <th>3</th>\n      <td>rachel griffiths writes and directs this award...</td>\n      <td>1</td>\n      <td>train</td>\n    </tr>\n    <tr>\n      <th>4</th>\n      <td>after eagerly waiting to the end i have to say...</td>\n      <td>0</td>\n      <td>train</td>\n    </tr>\n    <tr>\n      <th>5</th>\n      <td>this was the most pointless film i have ever s...</td>\n      <td>0</td>\n      <td>train</td>\n    </tr>\n    <tr>\n      <th>6</th>\n      <td>how can you go wrong with the amazing ramones ...</td>\n      <td>1</td>\n      <td>train</td>\n    </tr>\n    <tr>\n      <th>7</th>\n      <td>a true story about a true revolution 25 of apr...</td>\n      <td>1</td>\n      <td>train</td>\n    </tr>\n    <tr>\n      <th>8</th>\n      <td>i watched this movie every chance i got back i...</td>\n      <td>1</td>\n      <td>train</td>\n    </tr>\n    <tr>\n      <th>9</th>\n      <td>everybody's got bills to pay and that includes...</td>\n      <td>1</td>\n      <td>train</td>\n    </tr>\n    <tr>\n      <th>10</th>\n      <td>as an ex teacher i must confess to cringing th...</td>\n      <td>0</td>\n      <td>train</td>\n    </tr>\n    <tr>\n      <th>11</th>\n      <td>i'm glad that this is available on dvd now thi...</td>\n      <td>1</td>\n      <td>train</td>\n    </tr>\n    <tr>\n      <th>12</th>\n      <td>i really have problems rating this movie it is...</td>\n      <td>0</td>\n      <td>train</td>\n    </tr>\n    <tr>\n      <th>13</th>\n      <td>this thing is really awfull there´s no charach...</td>\n      <td>0</td>\n      <td>train</td>\n    </tr>\n    <tr>\n      <th>14</th>\n      <td>i don't see how anyone who even likes van damn...</td>\n      <td>0</td>\n      <td>train</td>\n    </tr>\n    <tr>\n      <th>15</th>\n      <td>this dreadful film assembles every asian stere...</td>\n      <td>0</td>\n      <td>train</td>\n    </tr>\n    <tr>\n      <th>16</th>\n      <td>greetings again from the darkness stunning pho...</td>\n      <td>1</td>\n      <td>train</td>\n    </tr>\n    <tr>\n      <th>17</th>\n      <td>this is an ok film but lacks any real depth ei...</td>\n      <td>0</td>\n      <td>train</td>\n    </tr>\n    <tr>\n      <th>18</th>\n      <td>immediately after renting and watching this mo...</td>\n      <td>0</td>\n      <td>train</td>\n    </tr>\n    <tr>\n      <th>19</th>\n      <td>one of the worst movies i've seen shoddy camer...</td>\n      <td>0</td>\n      <td>train</td>\n    </tr>\n    <tr>\n      <th>20</th>\n      <td>i didn't think it would be possible for joe do...</td>\n      <td>0</td>\n      <td>train</td>\n    </tr>\n    <tr>\n      <th>21</th>\n      <td>the absolute summum of the oeuvre of that craf...</td>\n      <td>1</td>\n      <td>train</td>\n    </tr>\n    <tr>\n      <th>22</th>\n      <td>the movie deserves 2 10 1 5 stars for the girl...</td>\n      <td>0</td>\n      <td>train</td>\n    </tr>\n    <tr>\n      <th>23</th>\n      <td>ok so i am like most people give me free ticke...</td>\n      <td>0</td>\n      <td>train</td>\n    </tr>\n    <tr>\n      <th>24</th>\n      <td>this documentary makes you travel all around t...</td>\n      <td>1</td>\n      <td>train</td>\n    </tr>\n    <tr>\n      <th>25</th>\n      <td>please help the economy spend your money elsew...</td>\n      <td>0</td>\n      <td>train</td>\n    </tr>\n    <tr>\n      <th>26</th>\n      <td>the idea is a very smart title the film has a ...</td>\n      <td>1</td>\n      <td>train</td>\n    </tr>\n    <tr>\n      <th>27</th>\n      <td>my girlfriend and i have a thing for robots so...</td>\n      <td>1</td>\n      <td>train</td>\n    </tr>\n    <tr>\n      <th>28</th>\n      <td>i rented it because the second segment traumat...</td>\n      <td>0</td>\n      <td>train</td>\n    </tr>\n    <tr>\n      <th>29</th>\n      <td>have you ever or do you have a pet who's been ...</td>\n      <td>1</td>\n      <td>train</td>\n    </tr>\n    <tr>\n      <th>...</th>\n      <td>...</td>\n      <td>...</td>\n      <td>...</td>\n    </tr>\n    <tr>\n      <th>25849</th>\n      <td>unless you are geeky film student who has to s...</td>\n      <td>0</td>\n      <td>dev</td>\n    </tr>\n    <tr>\n      <th>25850</th>\n      <td>if you merely look at the cover of this movie ...</td>\n      <td>0</td>\n      <td>dev</td>\n    </tr>\n    <tr>\n      <th>25851</th>\n      <td>red eye is a thrilling film by the creator of ...</td>\n      <td>1</td>\n      <td>dev</td>\n    </tr>\n    <tr>\n      <th>25852</th>\n      <td>make no mistake maureen o'sullivan is easily t...</td>\n      <td>1</td>\n      <td>dev</td>\n    </tr>\n    <tr>\n      <th>25853</th>\n      <td>forbidden planet is one of the best examples o...</td>\n      <td>1</td>\n      <td>dev</td>\n    </tr>\n    <tr>\n      <th>25854</th>\n      <td>if you enjoy films like american pie road trip...</td>\n      <td>0</td>\n      <td>dev</td>\n    </tr>\n    <tr>\n      <th>25855</th>\n      <td>in an apparent attempt to avoid remaking the o...</td>\n      <td>0</td>\n      <td>dev</td>\n    </tr>\n    <tr>\n      <th>25856</th>\n      <td>usually i know after the first minute of a mov...</td>\n      <td>0</td>\n      <td>dev</td>\n    </tr>\n    <tr>\n      <th>25857</th>\n      <td>pickup on south street 1953 directed by movie ...</td>\n      <td>1</td>\n      <td>dev</td>\n    </tr>\n    <tr>\n      <th>25858</th>\n      <td>evidently when you offer a actor enough money ...</td>\n      <td>0</td>\n      <td>dev</td>\n    </tr>\n    <tr>\n      <th>25859</th>\n      <td>this movie is a bad attempt to make original f...</td>\n      <td>0</td>\n      <td>dev</td>\n    </tr>\n    <tr>\n      <th>25860</th>\n      <td>this long winded film turns out to be less abo...</td>\n      <td>0</td>\n      <td>dev</td>\n    </tr>\n    <tr>\n      <th>25861</th>\n      <td>one of those thank god i don't live there docu...</td>\n      <td>0</td>\n      <td>dev</td>\n    </tr>\n    <tr>\n      <th>25862</th>\n      <td>fully deserving its prestigious hollywood awar...</td>\n      <td>1</td>\n      <td>dev</td>\n    </tr>\n    <tr>\n      <th>25863</th>\n      <td>this is the sorriest collection of clichés str...</td>\n      <td>0</td>\n      <td>dev</td>\n    </tr>\n    <tr>\n      <th>25864</th>\n      <td>i couldn't wait to see this movie about half w...</td>\n      <td>0</td>\n      <td>dev</td>\n    </tr>\n    <tr>\n      <th>25865</th>\n      <td>although dig was being hailed as being closest...</td>\n      <td>1</td>\n      <td>dev</td>\n    </tr>\n    <tr>\n      <th>25866</th>\n      <td>unfortunately because of us viewers' tendency ...</td>\n      <td>1</td>\n      <td>dev</td>\n    </tr>\n    <tr>\n      <th>25867</th>\n      <td>this movie was made by a bunch of white guys t...</td>\n      <td>0</td>\n      <td>dev</td>\n    </tr>\n    <tr>\n      <th>25868</th>\n      <td>its too bad that no one knows anything about t...</td>\n      <td>1</td>\n      <td>dev</td>\n    </tr>\n    <tr>\n      <th>25869</th>\n      <td>i guess i'm part of the silent minority who en...</td>\n      <td>1</td>\n      <td>dev</td>\n    </tr>\n    <tr>\n      <th>25870</th>\n      <td>not the worst movie i've seen but definitely n...</td>\n      <td>0</td>\n      <td>dev</td>\n    </tr>\n    <tr>\n      <th>25871</th>\n      <td>on the back burner for years so it was reporte...</td>\n      <td>0</td>\n      <td>dev</td>\n    </tr>\n    <tr>\n      <th>25872</th>\n      <td>what a horrible comedy totally lame the suppos...</td>\n      <td>0</td>\n      <td>dev</td>\n    </tr>\n    <tr>\n      <th>25873</th>\n      <td>clint eastwood reprises his role as dirty harr...</td>\n      <td>1</td>\n      <td>dev</td>\n    </tr>\n    <tr>\n      <th>25874</th>\n      <td>review may contain spoilers br br predictable ...</td>\n      <td>0</td>\n      <td>dev</td>\n    </tr>\n    <tr>\n      <th>25875</th>\n      <td>this film is predictable it is more predictabl...</td>\n      <td>0</td>\n      <td>dev</td>\n    </tr>\n    <tr>\n      <th>25876</th>\n      <td>paulie is a fantasy of a littler girl or perha...</td>\n      <td>1</td>\n      <td>dev</td>\n    </tr>\n    <tr>\n      <th>25877</th>\n      <td>the creativeness of this movie was lost from t...</td>\n      <td>0</td>\n      <td>dev</td>\n    </tr>\n    <tr>\n      <th>25878</th>\n      <td>first off i have to say that i loved the book ...</td>\n      <td>0</td>\n      <td>dev</td>\n    </tr>\n  </tbody>\n</table>\n<p>25879 rows × 3 columns</p>\n</div>"
     },
     "execution_count": 31,
     "metadata": {},
     "output_type": "execute_result"
    }
   ],
   "source": [
    "df"
   ],
   "metadata": {
    "collapsed": false,
    "pycharm": {
     "name": "#%%\n"
    }
   }
  },
  {
   "cell_type": "code",
   "execution_count": 20,
   "metadata": {},
   "outputs": [],
   "source": [
    "# !export PYTHONPATH=/home/yila22/prj\n",
    "# !echo $PYTHONPATH\n",
    "# %run \"../preprocess_data_BC.py\" --data_file imdb_dataset.csv --output_file ./vec_imdb.p --word_vectors_type fasttext.simple.300d --min_df 10"
   ]
  },
  {
   "cell_type": "code",
   "execution_count": 32,
   "metadata": {},
   "outputs": [
    {
     "name": "stdout",
     "output_type": "stream",
     "text": [
      "Traceback (most recent call last):\r\n",
      "  File \"/Users/apple/Desktop/workspace/research_project/attention/preprocess/IMDB/../preprocess_data_BC.py\", line 11, in <module>\r\n",
      "    from attention.preprocess import vectorizer\r\n",
      "  File \"/Users/apple/Desktop/workspace/research_project/attention/preprocess/vectorizer.py\", line 5, in <module>\r\n",
      "    from torchtext.vocab import pretrained_aliases\r\n",
      "ModuleNotFoundError: No module named 'torchtext'\r\n"
     ]
    }
   ],
   "source": [
    "# !cd ~/prj/attention/preprocess/IMDB\n",
    "!python ../preprocess_data_BC.py --data_file imdb_dataset.csv --output_file ./vec_imdb.p --word_vectors_type fasttext.simple.300d --min_df 10"
   ]
  },
  {
   "cell_type": "code",
   "execution_count": null,
   "outputs": [],
   "source": [],
   "metadata": {
    "collapsed": false,
    "pycharm": {
     "name": "#%%\n"
    }
   }
  }
 ],
 "metadata": {
  "kernelspec": {
   "display_name": "xai",
   "language": "python",
   "name": "xai"
  },
  "language_info": {
   "codemirror_mode": {
    "name": "ipython",
    "version": 3
   },
   "file_extension": ".py",
   "mimetype": "text/x-python",
   "name": "python",
   "nbconvert_exporter": "python",
   "pygments_lexer": "ipython3",
   "version": "3.6.15"
  }
 },
 "nbformat": 4,
 "nbformat_minor": 4
}